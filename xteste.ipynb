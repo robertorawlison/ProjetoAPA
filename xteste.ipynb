{
 "cells": [
  {
   "cell_type": "code",
   "execution_count": 1,
   "id": "8b70fb95",
   "metadata": {},
   "outputs": [
    {
     "data": {
      "application/vnd.microsoft.datawrangler.viewer.v0+json": {
       "columns": [
        {
         "name": "index",
         "rawType": "int64",
         "type": "integer"
        },
        {
         "name": "instancia",
         "rawType": "object",
         "type": "string"
        },
        {
         "name": "guloso",
         "rawType": "int64",
         "type": "integer"
        },
        {
         "name": "vnd",
         "rawType": "int64",
         "type": "integer"
        }
       ],
       "conversionMethod": "pd.DataFrame",
       "ref": "a1c68c0c-1840-4bf2-9377-8614f8980c63",
       "rows": [
        [
         "0",
         "n3m10A.txt",
         "23940",
         "10194"
        ],
        [
         "1",
         "n3m10B.txt",
         "5559",
         "1561"
        ],
        [
         "2",
         "n3m10C.txt",
         "10301",
         "2150"
        ],
        [
         "3",
         "n3m10D.txt",
         "5124",
         "322"
        ],
        [
         "4",
         "n3m10E.txt",
         "6920",
         "3343"
        ],
        [
         "5",
         "n3m20A.txt",
         "88820",
         "38574"
        ],
        [
         "6",
         "n3m20B.txt",
         "66010",
         "23918"
        ],
        [
         "7",
         "n3m20C.txt",
         "33006",
         "8908"
        ],
        [
         "8",
         "n3m20D.txt",
         "16477",
         "4465"
        ],
        [
         "9",
         "n3m20E.txt",
         "33326",
         "4537"
        ],
        [
         "10",
         "n3m40A.txt",
         "300549",
         "59138"
        ],
        [
         "11",
         "n3m40B.txt",
         "190776",
         "43400"
        ],
        [
         "12",
         "n3m40C.txt",
         "287714",
         "49614"
        ],
        [
         "13",
         "n3m40D.txt",
         "74363",
         "14319"
        ],
        [
         "14",
         "n3m40E.txt",
         "50722",
         "18970"
        ],
        [
         "15",
         "n5m50A.txt",
         "363794",
         "80093"
        ],
        [
         "16",
         "n5m50B.txt",
         "289454",
         "43485"
        ],
        [
         "17",
         "n5m50C.txt",
         "90412",
         "23164"
        ],
        [
         "18",
         "n5m50D.txt",
         "66633",
         "16159"
        ],
        [
         "19",
         "n5m50E.txt",
         "49347",
         "10554"
        ]
       ],
       "shape": {
        "columns": 3,
        "rows": 20
       }
      },
      "text/html": [
       "<div>\n",
       "<style scoped>\n",
       "    .dataframe tbody tr th:only-of-type {\n",
       "        vertical-align: middle;\n",
       "    }\n",
       "\n",
       "    .dataframe tbody tr th {\n",
       "        vertical-align: top;\n",
       "    }\n",
       "\n",
       "    .dataframe thead th {\n",
       "        text-align: right;\n",
       "    }\n",
       "</style>\n",
       "<table border=\"1\" class=\"dataframe\">\n",
       "  <thead>\n",
       "    <tr style=\"text-align: right;\">\n",
       "      <th></th>\n",
       "      <th>instancia</th>\n",
       "      <th>guloso</th>\n",
       "      <th>vnd</th>\n",
       "    </tr>\n",
       "  </thead>\n",
       "  <tbody>\n",
       "    <tr>\n",
       "      <th>0</th>\n",
       "      <td>n3m10A.txt</td>\n",
       "      <td>23940</td>\n",
       "      <td>10194</td>\n",
       "    </tr>\n",
       "    <tr>\n",
       "      <th>1</th>\n",
       "      <td>n3m10B.txt</td>\n",
       "      <td>5559</td>\n",
       "      <td>1561</td>\n",
       "    </tr>\n",
       "    <tr>\n",
       "      <th>2</th>\n",
       "      <td>n3m10C.txt</td>\n",
       "      <td>10301</td>\n",
       "      <td>2150</td>\n",
       "    </tr>\n",
       "    <tr>\n",
       "      <th>3</th>\n",
       "      <td>n3m10D.txt</td>\n",
       "      <td>5124</td>\n",
       "      <td>322</td>\n",
       "    </tr>\n",
       "    <tr>\n",
       "      <th>4</th>\n",
       "      <td>n3m10E.txt</td>\n",
       "      <td>6920</td>\n",
       "      <td>3343</td>\n",
       "    </tr>\n",
       "    <tr>\n",
       "      <th>5</th>\n",
       "      <td>n3m20A.txt</td>\n",
       "      <td>88820</td>\n",
       "      <td>38574</td>\n",
       "    </tr>\n",
       "    <tr>\n",
       "      <th>6</th>\n",
       "      <td>n3m20B.txt</td>\n",
       "      <td>66010</td>\n",
       "      <td>23918</td>\n",
       "    </tr>\n",
       "    <tr>\n",
       "      <th>7</th>\n",
       "      <td>n3m20C.txt</td>\n",
       "      <td>33006</td>\n",
       "      <td>8908</td>\n",
       "    </tr>\n",
       "    <tr>\n",
       "      <th>8</th>\n",
       "      <td>n3m20D.txt</td>\n",
       "      <td>16477</td>\n",
       "      <td>4465</td>\n",
       "    </tr>\n",
       "    <tr>\n",
       "      <th>9</th>\n",
       "      <td>n3m20E.txt</td>\n",
       "      <td>33326</td>\n",
       "      <td>4537</td>\n",
       "    </tr>\n",
       "    <tr>\n",
       "      <th>10</th>\n",
       "      <td>n3m40A.txt</td>\n",
       "      <td>300549</td>\n",
       "      <td>59138</td>\n",
       "    </tr>\n",
       "    <tr>\n",
       "      <th>11</th>\n",
       "      <td>n3m40B.txt</td>\n",
       "      <td>190776</td>\n",
       "      <td>43400</td>\n",
       "    </tr>\n",
       "    <tr>\n",
       "      <th>12</th>\n",
       "      <td>n3m40C.txt</td>\n",
       "      <td>287714</td>\n",
       "      <td>49614</td>\n",
       "    </tr>\n",
       "    <tr>\n",
       "      <th>13</th>\n",
       "      <td>n3m40D.txt</td>\n",
       "      <td>74363</td>\n",
       "      <td>14319</td>\n",
       "    </tr>\n",
       "    <tr>\n",
       "      <th>14</th>\n",
       "      <td>n3m40E.txt</td>\n",
       "      <td>50722</td>\n",
       "      <td>18970</td>\n",
       "    </tr>\n",
       "    <tr>\n",
       "      <th>15</th>\n",
       "      <td>n5m50A.txt</td>\n",
       "      <td>363794</td>\n",
       "      <td>80093</td>\n",
       "    </tr>\n",
       "    <tr>\n",
       "      <th>16</th>\n",
       "      <td>n5m50B.txt</td>\n",
       "      <td>289454</td>\n",
       "      <td>43485</td>\n",
       "    </tr>\n",
       "    <tr>\n",
       "      <th>17</th>\n",
       "      <td>n5m50C.txt</td>\n",
       "      <td>90412</td>\n",
       "      <td>23164</td>\n",
       "    </tr>\n",
       "    <tr>\n",
       "      <th>18</th>\n",
       "      <td>n5m50D.txt</td>\n",
       "      <td>66633</td>\n",
       "      <td>16159</td>\n",
       "    </tr>\n",
       "    <tr>\n",
       "      <th>19</th>\n",
       "      <td>n5m50E.txt</td>\n",
       "      <td>49347</td>\n",
       "      <td>10554</td>\n",
       "    </tr>\n",
       "  </tbody>\n",
       "</table>\n",
       "</div>"
      ],
      "text/plain": [
       "     instancia  guloso    vnd\n",
       "0   n3m10A.txt   23940  10194\n",
       "1   n3m10B.txt    5559   1561\n",
       "2   n3m10C.txt   10301   2150\n",
       "3   n3m10D.txt    5124    322\n",
       "4   n3m10E.txt    6920   3343\n",
       "5   n3m20A.txt   88820  38574\n",
       "6   n3m20B.txt   66010  23918\n",
       "7   n3m20C.txt   33006   8908\n",
       "8   n3m20D.txt   16477   4465\n",
       "9   n3m20E.txt   33326   4537\n",
       "10  n3m40A.txt  300549  59138\n",
       "11  n3m40B.txt  190776  43400\n",
       "12  n3m40C.txt  287714  49614\n",
       "13  n3m40D.txt   74363  14319\n",
       "14  n3m40E.txt   50722  18970\n",
       "15  n5m50A.txt  363794  80093\n",
       "16  n5m50B.txt  289454  43485\n",
       "17  n5m50C.txt   90412  23164\n",
       "18  n5m50D.txt   66633  16159\n",
       "19  n5m50E.txt   49347  10554"
      ]
     },
     "execution_count": 1,
     "metadata": {},
     "output_type": "execute_result"
    }
   ],
   "source": [
    "import pandas as pd\n",
    "\n",
    "df = pd.read_csv('resultados_comparacao.csv')\n",
    "df"
   ]
  }
 ],
 "metadata": {
  "kernelspec": {
   "display_name": "Python 3",
   "language": "python",
   "name": "python3"
  },
  "language_info": {
   "codemirror_mode": {
    "name": "ipython",
    "version": 3
   },
   "file_extension": ".py",
   "mimetype": "text/x-python",
   "name": "python",
   "nbconvert_exporter": "python",
   "pygments_lexer": "ipython3",
   "version": "3.13.3"
  }
 },
 "nbformat": 4,
 "nbformat_minor": 5
}
